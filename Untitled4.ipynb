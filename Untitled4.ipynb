{
  "nbformat": 4,
  "nbformat_minor": 0,
  "metadata": {
    "colab": {
      "provenance": []
    },
    "kernelspec": {
      "name": "python3",
      "display_name": "Python 3"
    },
    "language_info": {
      "name": "python"
    }
  },
  "cells": [
    {
      "cell_type": "code",
      "execution_count": null,
      "metadata": {
        "id": "q4_TFA5SILk8"
      },
      "outputs": [],
      "source": [
        "# Load dependencies\n",
        "import json # modulo para trabajar con archivos JSON\n",
        "import requests # libreria para hacer peticiones HTTP\n",
        "import pandas as pd # libreria para procesar datos, proporciona funciones para analíticas\n",
        "from bs4 import BeautifulSoup as bs # Extraer información de paginas web\n",
        "import numpy as np"
      ]
    },
    {
      "cell_type": "markdown",
      "source": [
        "1. Pre Requisitos | Librerias necesarias"
      ],
      "metadata": {
        "id": "L1EIuV3_IO4q"
      }
    },
    {
      "cell_type": "code",
      "source": [
        "# Función que convierte una lista de elementos en un dataframe de pandas\n",
        "def rowsToDataFrame(rows):\n",
        "    df = pd.DataFrame(rows[1:], columns=rows[0])\n",
        "    return df"
      ],
      "metadata": {
        "id": "t0s-LYSuIPdx"
      },
      "execution_count": null,
      "outputs": []
    },
    {
      "cell_type": "markdown",
      "source": [
        "2. Funciones para procesamiento de los datos"
      ],
      "metadata": {
        "id": "FgE6V06TISak"
      }
    },
    {
      "cell_type": "code",
      "source": [
        "# Función para extraer los datos de una tabla HTML\n",
        "def processTableData(tbl):\n",
        "    rows = []\n",
        "    for child in tbl.find('tbody').children: # itera los items internos de la tabla [<tr>]\n",
        "        row = []\n",
        "        for td in child: # itera los items internos de la tabla [<td>]\n",
        "            try:\n",
        "                item = td.text.replace('\\n', '') # recupera el texto del elemento [<td>]\n",
        "                if item:\n",
        "                    row.append(item) # Agrega cada elemento de la fila\n",
        "            except:\n",
        "                continue\n",
        "        if len(row) > 0:\n",
        "            rows.append(row) # agrega todos los campos de una fila de la tabla\n",
        "    # print(rows)\n",
        "    return rows"
      ],
      "metadata": {
        "id": "CaYiRdv-IUgL"
      },
      "execution_count": null,
      "outputs": []
    },
    {
      "cell_type": "code",
      "source": [
        "# Función para exxtrar la data de la URL y procesar el contenido HTML\n",
        "def processDataHTML(data):\n",
        "    soup = bs(data['sections'][0]['text'], 'html.parser') # Recupera el item del JSON y lo convierte en contenido HTML\n",
        "    tbl = soup.find_all('table')[0] # Recupera la tabla del contenido HTML\n",
        "    # print(tbl.prettify())\n",
        "    tblRows = processTableData(tbl) # Ejecuta la función apra porcesar el contenido de la Tabla\n",
        "    return tblRows"
      ],
      "metadata": {
        "id": "gPdIqEgWIWMc"
      },
      "execution_count": null,
      "outputs": []
    },
    {
      "cell_type": "markdown",
      "source": [
        "3. Extracción de Información"
      ],
      "metadata": {
        "id": "vDGRw4TgIX8M"
      }
    },
    {
      "cell_type": "code",
      "source": [
        "# Read website\n",
        "r = requests.get('https://www.wikiwand.com/mcs-api/es.wikipedia.org/v1/page/mobile-sections-remaining/Anexo%3APel%C3%ADculas_con_mayor_recaudaci%C3%B3n_en_la_taquilla_de_M%C3%A9xico')  # Recuperamos el contenido de la web\n",
        "table = processDataHTML(json.loads(r.content)) # Formate el contenido en formato JSON\n",
        "df = rowsToDataFrame(table) # ejecuta la funcion para recupera los datos de la tabla como dataframe de Pandas\n",
        "df"
      ],
      "metadata": {
        "id": "ihU7ufAPIZOJ"
      },
      "execution_count": null,
      "outputs": []
    },
    {
      "cell_type": "code",
      "source": [
        "4. Almacenamiento de los datos"
      ],
      "metadata": {
        "id": "GTIJHGJtIbfa"
      },
      "execution_count": null,
      "outputs": []
    },
    {
      "cell_type": "code",
      "source": [
        "# Guardamos las datos extraidos como archivo CSV\n",
        "df.to_csv('/content/drive/MyDrive/Colab Notebooks/movies.csv')"
      ],
      "metadata": {
        "id": "09xCtLqxIcwG"
      },
      "execution_count": null,
      "outputs": []
    }
  ]
}