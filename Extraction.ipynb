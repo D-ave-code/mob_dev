{
  "nbformat": 4,
  "nbformat_minor": 0,
  "metadata": {
    "colab": {
      "provenance": []
    },
    "kernelspec": {
      "name": "python3",
      "display_name": "Python 3"
    },
    "language_info": {
      "name": "python"
    }
  },
  "cells": [
    {
      "cell_type": "code",
      "execution_count": 1,
      "metadata": {
        "id": "Zq5ZNnCtB8oU"
      },
      "outputs": [],
      "source": [
        "# Load dependencies\n",
        "import json # modulo para trabajar con archivos JSON\n",
        "import requests # libreria para hacer peticiones HTTP\n",
        "import pandas as pd # libreria para procesar datos, proporciona funciones para analíticas\n",
        "from bs4 import BeautifulSoup as bs # Extraer información de paginas web\n",
        "import numpy as np"
      ]
    },
    {
      "cell_type": "markdown",
      "source": [
        "1. Pre Requisitos | Librerias necesarias"
      ],
      "metadata": {
        "id": "4SjwIzPkGpfM"
      }
    },
    {
      "cell_type": "code",
      "source": [
        "# Función que convierte una lista de elementos en un dataframe de pandas\n",
        "def rowsToDataFrame(rows):\n",
        "    df = pd.DataFrame(rows[1:], columns=rows[0])\n",
        "    return df"
      ],
      "metadata": {
        "id": "nCiadqrdCQKi"
      },
      "execution_count": 2,
      "outputs": []
    },
    {
      "cell_type": "markdown",
      "source": [
        "2. Funciones para procesamiento de los datos"
      ],
      "metadata": {
        "id": "Xbz0F88QGvVz"
      }
    },
    {
      "cell_type": "code",
      "source": [
        "# Función para extraer los datos de una tabla HTML\n",
        "def processTableData(tbl):\n",
        "    rows = []\n",
        "    for child in tbl.find('tbody').children: # itera los items internos de la tabla [<tr>]\n",
        "        row = []\n",
        "        for td in child: # itera los items internos de la tabla [<td>]\n",
        "            try:\n",
        "                item = td.text.replace('\\n', '') # recupera el texto del elemento [<td>]\n",
        "                if item:\n",
        "                    row.append(item) # Agrega cada elemento de la fila\n",
        "            except:\n",
        "                continue\n",
        "        if len(row) > 0:\n",
        "            rows.append(row) # agrega todos los campos de una fila de la tabla\n",
        "    # print(rows)\n",
        "    return rows"
      ],
      "metadata": {
        "id": "NI8TxNdwCRqD"
      },
      "execution_count": 3,
      "outputs": []
    },
    {
      "cell_type": "code",
      "source": [
        "# Función para exxtrar la data de la URL y procesar el contenido HTML\n",
        "def processDataHTML(data):\n",
        "    soup = bs(data['sections'][0]['text'], 'html.parser') # Recupera el item del JSON y lo convierte en contenido HTML\n",
        "    tbl = soup.find_all('table')[0] # Recupera la tabla del contenido HTML\n",
        "    # print(tbl.prettify())\n",
        "    tblRows = processTableData(tbl) # Ejecuta la función apra porcesar el contenido de la Tabla\n",
        "    return tblRows"
      ],
      "metadata": {
        "id": "seLmFIY4CS_K"
      },
      "execution_count": 8,
      "outputs": []
    },
    {
      "cell_type": "markdown",
      "source": [
        "3. Extracción de Información"
      ],
      "metadata": {
        "id": "1gUS4QMMGx7b"
      }
    },
    {
      "cell_type": "code",
      "source": [
        "# Read website\n",
        "r = requests.get('https://www.wikiwand.com/mcs-api/es.wikipedia.org/v1/page/mobile-sections-remaining/Anexo%3APel%C3%ADculas_con_mayor_recaudaci%C3%B3n_en_la_taquilla_de_M%C3%A9xico')  # Recuperamos el contenido de la web\n",
        "table = processDataHTML(json.loads(r.content)) # Formate el contenido en formato JSON\n",
        "df = rowsToDataFrame(table) # ejecuta la funcion para recupera los datos de la tabla como dataframe de Pandas\n",
        "df"
      ],
      "metadata": {
        "id": "gA7t-KKMCVCP"
      },
      "execution_count": null,
      "outputs": []
    },
    {
      "cell_type": "markdown",
      "source": [
        "4. Almacenamiento de los datos"
      ],
      "metadata": {
        "id": "AH_XifmeGz9s"
      }
    },
    {
      "cell_type": "code",
      "source": [
        "# Guardamos las datos extraidos como archivo CSV\n",
        "df.to_csv('/content/drive/MyDrive/Colab Notebooks/movies.csv')"
      ],
      "metadata": {
        "id": "YXEEOc0qChRE"
      },
      "execution_count": 10,
      "outputs": []
    }
  ]
}